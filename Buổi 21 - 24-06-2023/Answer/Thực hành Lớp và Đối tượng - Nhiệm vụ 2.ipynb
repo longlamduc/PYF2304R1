{
 "cells": [
  {
   "cell_type": "code",
   "execution_count": null,
   "id": "1b7705b3",
   "metadata": {},
   "outputs": [],
   "source": [
    "\"\"\"\n",
    "Viết class NhanVien gồm các thuộc tính:\n",
    "+ Tên\n",
    "+ Tuổi\n",
    "+ Địa chỉ\n",
    "+ Tiền lương\n",
    "+ Tổng số giờ làm\n",
    "\n",
    "Và các phương thức:\n",
    "- Phương thức tạo\n",
    "- input_info() : Nhập các thông tin cho nhân viên từ bàn phím\n",
    "- print_info() : In ra tất cả các thông tin của nhân viên\n",
    "- tinh_thuong(): Tính toán và trả về số tiền thưởng của nhân viên theo công thức sau:\n",
    "Nếu tổng số giờ làm của nhân viên >=200 thì thưởng = lương * 20%\n",
    "Nếu tổng số giờ làm của nhân viên <200 và >=100 thì thưởng = lương * 10%\n",
    "Nếu tổng số giờ làm của nhân viên <100 thì thưởng = 0\n",
    "\"\"\""
   ]
  },
  {
   "cell_type": "code",
   "execution_count": 6,
   "id": "3cf0f41d",
   "metadata": {},
   "outputs": [
    {
     "name": "stdout",
     "output_type": "stream",
     "text": [
      "Input employee name: Hien\n",
      "Input employee age:27\n",
      "Input employee address: 123 Hoa Binh\n",
      "Input employee salary: 10000000\n",
      "Input employee total working hour: 150\n",
      "===================================\n",
      "Fullname: Hien\n",
      "Age: 27\n",
      "Address: 123 Hoa Binh\n",
      "Salary: 10000000VND\n",
      "Total working hour: 150.0hour(s)\n",
      "Bonus: 1000000.0VND\n",
      "===================================\n"
     ]
    }
   ],
   "source": [
    "class NhanVien:\n",
    "    def __init__(self):\n",
    "        self.name = ''\n",
    "        self.age = 18\n",
    "        self.address = ''\n",
    "        self.salary = 0\n",
    "        self.working_hour = 0\n",
    "    \n",
    "    def input_info(self):\n",
    "        self.name = input(\"Input employee name: \")\n",
    "        self.age = int(input(\"Input employee age:\"))\n",
    "        self.address = input(\"Input employee address: \")\n",
    "        self.salary = int(input(\"Input employee salary: \"))\n",
    "        self.working_hour = float(input(\"Input employee total working hour: \"))\n",
    "    \n",
    "    def tinh_thuong(self):\n",
    "        tien_thuong = 0\n",
    "        if self.working_hour >= 200:\n",
    "            tien_thuong = self.salary * 0.2\n",
    "        elif self.working_hour >= 100:\n",
    "            tien_thuong = self.salary * 0.1\n",
    "        return tien_thuong\n",
    "    \n",
    "    def print_info(self):\n",
    "        print(\"===================================\")\n",
    "        print(f\"Fullname: {self.name}\")\n",
    "        print(f\"Age: {self.age}\")\n",
    "        print(f\"Address: {self.address}\")\n",
    "        print(f\"Salary: {self.salary}VND\")\n",
    "        print(f\"Total working hour: {self.working_hour}hour(s)\")\n",
    "        print(f\"Bonus: {self.tinh_thuong()}VND\")\n",
    "        print(\"===================================\")\n",
    "        \n",
    "staff_a = NhanVien()\n",
    "staff_a.input_info()\n",
    "staff_a.print_info()"
   ]
  }
 ],
 "metadata": {
  "kernelspec": {
   "display_name": "Python 3 (ipykernel)",
   "language": "python",
   "name": "python3"
  },
  "language_info": {
   "codemirror_mode": {
    "name": "ipython",
    "version": 3
   },
   "file_extension": ".py",
   "mimetype": "text/x-python",
   "name": "python",
   "nbconvert_exporter": "python",
   "pygments_lexer": "ipython3",
   "version": "3.9.6"
  }
 },
 "nbformat": 4,
 "nbformat_minor": 5
}
